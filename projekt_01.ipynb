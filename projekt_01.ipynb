{
 "cells": [
  {
   "cell_type": "code",
   "execution_count": 11,
   "metadata": {},
   "outputs": [
    {
     "name": "stdout",
     "output_type": "stream",
     "text": [
      "Welcome to the app, Bob .\n",
      "We have 3 texts to be analyzed.\n",
      "-----------------------------------\n",
      "invalid number, terminating the program..\n"
     ]
    }
   ],
   "source": [
    "\"\"\"\n",
    "projekt_1.py: první projekt do Engeto Online Python Akademie\n",
    "\n",
    "author: Julie Merdova\n",
    "email: julie.talpova@gmail.com\n",
    "discord: julie.merdova\n",
    "\"\"\"\n",
    "\n",
    "# Vyžádá si od uživatele přihlašovací jméno a heslo,\n",
    "# zjistí, jestli zadané údaje odpovídají někomu z registrovaných uživatelů,\n",
    "registrovani = {\"bob\": \"123\", \n",
    "                \"ann\": \"pass123\", \n",
    "                \"mike\": \"password123\",\n",
    "                \"liz\": \"pass123\"\n",
    "                }\n",
    "\n",
    "def main():\n",
    "    jmeno = input(\"username:\")\n",
    "    heslo = input(\"password:\")\n",
    "    # pokud je registrovaný, pozdrav jej a umožni mu analyzovat texty,\n",
    "    # pokud není registrovaný, upozorni jej a ukonči program.**\n",
    "    if jmeno in registrovani and registrovani[jmeno] == heslo:\n",
    "        print(\"Welcome to the app,\", jmeno.capitalize(),\".\")\n",
    "        print(\"We have 3 texts to be analyzed.\")\n",
    "    else:\n",
    "        print(\"unregistered user, terminating the program..\") \n",
    "        return\n",
    "    # Program nechá uživatele vybrat mezi třemi texty, uloženými v proměnné TEXTS:\n",
    "    # Pokud uživatel vybere takové číslo textu, které není v zadání, program jej upozorní a skončí,\n",
    "    # pokud uživatel zadá jiný vstup než číslo, program jej rovněž upozorní a skončí.\n",
    "\n",
    "    print(\"-\" * 35)\n",
    "    text_cislo = input(\"Enter a number btw. 1 and 3 to select:\")\n",
    "    \n",
    "    if text_cislo.isnumeric():  # kontrola, zda obsahuje pouze cislice\n",
    "        text_cislo = int(text_cislo)\n",
    "        if text_cislo in [1, 2, 3]:\n",
    "            print(\"You selected text number \", text_cislo)\n",
    "        else:\n",
    "            print(\"invalid number, terminating the program..\")\n",
    "    else:\n",
    "        print(\"invalid input, terminating the program..\")\n",
    "\n",
    "main()\n",
    "        "
   ]
  },
  {
   "cell_type": "code",
   "execution_count": null,
   "metadata": {},
   "outputs": [],
   "source": []
  },
  {
   "cell_type": "code",
   "execution_count": null,
   "metadata": {},
   "outputs": [],
   "source": []
  }
 ],
 "metadata": {
  "kernelspec": {
   "display_name": "Python 3",
   "language": "python",
   "name": "python3"
  },
  "language_info": {
   "codemirror_mode": {
    "name": "ipython",
    "version": 3
   },
   "file_extension": ".py",
   "mimetype": "text/x-python",
   "name": "python",
   "nbconvert_exporter": "python",
   "pygments_lexer": "ipython3",
   "version": "3.12.4"
  }
 },
 "nbformat": 4,
 "nbformat_minor": 2
}
