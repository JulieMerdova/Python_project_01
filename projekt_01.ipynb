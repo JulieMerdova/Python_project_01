{
 "cells": [
  {
   "cell_type": "code",
   "execution_count": 22,
   "metadata": {},
   "outputs": [
    {
     "name": "stdout",
     "output_type": "stream",
     "text": [
      "Welcome to the app, Bob .\n",
      "We have 3 texts to be analyzed.\n",
      "-----------------------------------\n",
      "You selected text number 2\n",
      "There are 62 words in the selected text.\n",
      "There are 10 titlecase words.\n",
      "There are 0 uppercase words.\n",
      "There are 51 lowercase words.\n",
      "There are 1 numeric strings.\n",
      "The sum of all the numbers 300\n"
     ]
    }
   ],
   "source": [
    "\"\"\"\n",
    "projekt_1.py: první projekt do Engeto Online Python Akademie\n",
    "\n",
    "author: Julie Merdova\n",
    "email: julie.talpova@gmail.com\n",
    "discord: julie.merdova\n",
    "\"\"\"\n",
    "\n",
    "# Vyžádá si od uživatele přihlašovací jméno a heslo,\n",
    "# zjistí, jestli zadané údaje odpovídají někomu z registrovaných uživatelů,\n",
    "registrovani = {\"bob\": \"123\", \n",
    "                \"ann\": \"pass123\", \n",
    "                \"mike\": \"password123\",\n",
    "                \"liz\": \"pass123\"\n",
    "                }\n",
    "from task_template import TEXTS\n",
    "import re\n",
    "def main():\n",
    "    jmeno = input(\"username:\")\n",
    "    heslo = input(\"password:\")\n",
    "    # pokud je registrovaný, pozdrav jej a umožni mu analyzovat texty,\n",
    "    # pokud není registrovaný, upozorni jej a ukonči program.**\n",
    "    if jmeno in registrovani and registrovani[jmeno] == heslo:\n",
    "        print(\"Welcome to the app,\", jmeno.capitalize(),\".\")\n",
    "        print(\"We have 3 texts to be analyzed.\")\n",
    "    else:\n",
    "        print(\"unregistered user, terminating the program..\") \n",
    "        return\n",
    "    # Program nechá uživatele vybrat mezi třemi texty, uloženými v proměnné TEXTS:\n",
    "    # Pokud uživatel vybere takové číslo textu, které není v zadání, program jej upozorní a skončí,\n",
    "    # pokud uživatel zadá jiný vstup než číslo, program jej rovněž upozorní a skončí.\n",
    "\n",
    "    print(\"-\" * 35)\n",
    "    text_cislo = input(\"Enter a number btw. 1 and 3 to select:\")\n",
    "    \n",
    "    if text_cislo.isnumeric():  # kontrola, zda obsahuje pouze číslive\n",
    "        text_cislo = int(text_cislo)\n",
    "        if 1 <= text_cislo <= len(TEXTS):\n",
    "            vybrany_text = TEXTS[text_cislo - 1] #vybrat text podle vybraného čísla\n",
    "            print(\"You selected text number\", text_cislo)\n",
    "            #výpočet jednotlivých statistik:\n",
    "            words = vybrany_text.split()\n",
    "            pocet_slov = 0\n",
    "            pocet_kapitalek = 0\n",
    "            pocet_upper_slov = 0\n",
    "            pocet_lower_slov = 0\n",
    "            pocet_cisel = 0\n",
    "            suma_vsech_cisel = 0\n",
    "\n",
    "            for word in words:\n",
    "                pocet_slov += 1\n",
    "                if word.istitle():\n",
    "                    pocet_kapitalek += 1\n",
    "                if word.isupper():\n",
    "                    pocet_upper_slov += 1\n",
    "                if word.islower():\n",
    "                    pocet_lower_slov += 1\n",
    "                if word.isnumeric():\n",
    "                    pocet_cisel += 1\n",
    "                    suma_vsech_cisel += int(word)\n",
    "            \n",
    "            print(\"There are\", pocet_slov,\"words in the selected text.\")\n",
    "            print(\"There are\", pocet_kapitalek,\"titlecase words.\")\n",
    "            print(\"There are\", pocet_upper_slov,\"uppercase words.\")\n",
    "            print(\"There are\", pocet_lower_slov,\"lowercase words.\")\n",
    "            print(\"There are\", pocet_cisel,\"numeric strings.\")\n",
    "            print(\"The sum of all the numbers\", suma_vsech_cisel)\n",
    "        else:\n",
    "            print(\"invalid number, terminating the program..\")\n",
    "    else:\n",
    "        print(\"invalid input, terminating the program..\")\n",
    "main()\n",
    "\n",
    "        "
   ]
  },
  {
   "cell_type": "code",
   "execution_count": null,
   "metadata": {},
   "outputs": [],
   "source": []
  },
  {
   "cell_type": "code",
   "execution_count": null,
   "metadata": {},
   "outputs": [],
   "source": []
  }
 ],
 "metadata": {
  "kernelspec": {
   "display_name": "Python 3",
   "language": "python",
   "name": "python3"
  },
  "language_info": {
   "codemirror_mode": {
    "name": "ipython",
    "version": 3
   },
   "file_extension": ".py",
   "mimetype": "text/x-python",
   "name": "python",
   "nbconvert_exporter": "python",
   "pygments_lexer": "ipython3",
   "version": "3.12.4"
  }
 },
 "nbformat": 4,
 "nbformat_minor": 2
}
